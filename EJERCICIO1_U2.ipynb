{
 "cells": [
  {
   "cell_type": "code",
   "execution_count": 24,
   "metadata": {},
   "outputs": [
    {
     "name": "stdout",
     "output_type": "stream",
     "text": [
      "El valor asignado al radio es:1.0\n"
     ]
    }
   ],
   "source": [
    "'''\n",
    "Escribe un programa que solicite al usuario ingresar el radio de un círculo y calcule el área. \n",
    "Luego, muestra el resultado en pantalla.\n",
    "\n",
    "'''\n",
    "radio= float(input(\"Ingrese el radio del círculo: \"))\n",
    "print(\"El valor asignado al radio es:\"+\"\"+str(radio))"
   ]
  },
  {
   "cell_type": "code",
   "execution_count": 25,
   "metadata": {},
   "outputs": [
    {
     "name": "stdout",
     "output_type": "stream",
     "text": [
      "El area del circulo es: 3.14\n"
     ]
    }
   ],
   "source": [
    "pi= 3.14\n",
    "areacirculo= pi*radio**2\n",
    "print (\"El area del circulo es: \" + str(areacirculo))"
   ]
  },
  {
   "cell_type": "markdown",
   "metadata": {},
   "source": [
    "__________________________________ EJERCICIO 2_________________________________"
   ]
  },
  {
   "cell_type": "markdown",
   "metadata": {},
   "source": [
    "Escribe un programa que solicite al usuario ingresar una cantidad de minutos y convierta ese valor a horas y minutos. Luego, muestra el resultado en pantalla.\n",
    "\n",
    "minutos = int(input(\"Ingrese la cantidad de minutos: \"))\n",
    "\n",
    "horas = minutos // 60\n",
    "\n",
    "minutos_restantes = minutos % 60\n",
    "\n",
    "print(\"Equivalente a:\", horas, \"horas y\", minutos_restantes, \"minutos.\")"
   ]
  },
  {
   "cell_type": "code",
   "execution_count": 13,
   "metadata": {},
   "outputs": [
    {
     "name": "stdout",
     "output_type": "stream",
     "text": [
      "La cantidad de minutos ingresada es: 2344\n"
     ]
    }
   ],
   "source": [
    "minutos= int(input(\"Ingrese la cantidad de minutos: \"))\n",
    "print(\"La cantidad de minutos ingresada es: \"+\"\"+ str(minutos))"
   ]
  },
  {
   "cell_type": "code",
   "execution_count": 14,
   "metadata": {},
   "outputs": [
    {
     "name": "stdout",
     "output_type": "stream",
     "text": [
      "Equivalente a:  39 horas y 4 minutos.\n"
     ]
    }
   ],
   "source": [
    "horas= minutos//60\n",
    "# // me hace division entera\n",
    "minutos_restantes= minutos%60\n",
    "print(\"Equivalente a: \", horas,\"horas y\", minutos_restantes, \"minutos.\")"
   ]
  },
  {
   "cell_type": "markdown",
   "metadata": {},
   "source": [
    "____________________________________ EJERCICIO 3____________________________________-"
   ]
  },
  {
   "cell_type": "markdown",
   "metadata": {},
   "source": [
    "Escribe un programa que solicite al usuario ingresar su peso en kilogramos y su altura en metros (en ese orden), y calcule el índice de masa corporal (IMC). Luego, muestra el resultado en pantalla. "
   ]
  },
  {
   "cell_type": "code",
   "execution_count": 15,
   "metadata": {},
   "outputs": [
    {
     "name": "stdout",
     "output_type": "stream",
     "text": [
      "El peso actual ingresado es: 90\n"
     ]
    }
   ],
   "source": [
    "peso= input(\"Ingrese su peso actual: \")\n",
    "print(\"El peso actual ingresado es: \"+\"\"+str(peso))"
   ]
  },
  {
   "cell_type": "code",
   "execution_count": 17,
   "metadata": {},
   "outputs": [
    {
     "data": {
      "text/plain": [
       "str"
      ]
     },
     "execution_count": 17,
     "metadata": {},
     "output_type": "execute_result"
    }
   ],
   "source": [
    "type(peso)"
   ]
  },
  {
   "cell_type": "markdown",
   "metadata": {},
   "source": [
    "#OJO AHÍ\n",
    "Observar que, cuando se solicita un input, el automaticamente va a tomar el \"input\" que se ponga como un str. Por eso es muy necesario convertir el input al tipo de dato que se requiere para trabajar (si necesito hacer un calculo numerico, no se puede hacer con strings, como se ve arriba)"
   ]
  },
  {
   "cell_type": "code",
   "execution_count": 20,
   "metadata": {},
   "outputs": [
    {
     "name": "stdout",
     "output_type": "stream",
     "text": [
      "El peso actual ingresado es: 95\n",
      "La estatura ingresada es: 1.71\n"
     ]
    }
   ],
   "source": [
    "peso= int(input(\"Ingrese su peso actual: \"))\n",
    "altura= float(input(\"Ingrese su estatura: \"))\n",
    "print(\"El peso actual ingresado es: \"+\"\"+str(peso))\n",
    "print(\"La estatura ingresada es: \"+\"\"+str(altura))"
   ]
  },
  {
   "cell_type": "code",
   "execution_count": 21,
   "metadata": {},
   "outputs": [
    {
     "name": "stdout",
     "output_type": "stream",
     "text": [
      "Su indice de masa corporal (IMC) es:  32.0\n"
     ]
    }
   ],
   "source": [
    "imc= peso//(altura**2)\n",
    "print(\"Su indice de masa corporal (IMC) es: \",imc)"
   ]
  },
  {
   "cell_type": "markdown",
   "metadata": {},
   "source": [
    "____________________________________________ EJERCICIO 4 _____________________________________________________________"
   ]
  },
  {
   "cell_type": "markdown",
   "metadata": {},
   "source": [
    "Escribe un programa que solicite al usuario ingresar el precio original de un producto y un porcentaje de descuento. Luego, calcula el precio con el descuento aplicado y muestra el resultado en pantalla"
   ]
  },
  {
   "cell_type": "code",
   "execution_count": 22,
   "metadata": {},
   "outputs": [
    {
     "name": "stdout",
     "output_type": "stream",
     "text": [
      "El precio con descuento es:  2500.0\n"
     ]
    }
   ],
   "source": [
    "precio_original= int(input(\"Ingrese el precio original del producto: \"))\n",
    "descuento= float (input(\"Ingrese el porcentaje de descuento: \"))\n",
    "precio_descuento= precio_original* ((100-descuento)/100)\n",
    "print(\"El precio con descuento es: \",precio_descuento)\n"
   ]
  },
  {
   "cell_type": "markdown",
   "metadata": {},
   "source": [
    "______________________________________ EJERCICIO 5 __________________________________________________________"
   ]
  },
  {
   "cell_type": "markdown",
   "metadata": {},
   "source": [
    "Escribe un programa que solicite al usuario ingresar una temperatura en grados Celsius y convierta ese valor a grados Fahrenheit. Luego, muestra el resultado en pantalla."
   ]
  },
  {
   "cell_type": "code",
   "execution_count": 23,
   "metadata": {},
   "outputs": [
    {
     "name": "stdout",
     "output_type": "stream",
     "text": [
      "La temperatura en Fahrenheit es:  85.64\n"
     ]
    }
   ],
   "source": [
    "temperatura_celsius= float(input(\"Ingrese la temperatura en °C: \"))\n",
    "temperatura_fahrenheit= (temperatura_celsius*(9/5))+32\n",
    "print(\"La temperatura en Fahrenheit es: \",temperatura_fahrenheit)"
   ]
  }
 ],
 "metadata": {
  "kernelspec": {
   "display_name": "base",
   "language": "python",
   "name": "python3"
  },
  "language_info": {
   "codemirror_mode": {
    "name": "ipython",
    "version": 3
   },
   "file_extension": ".py",
   "mimetype": "text/x-python",
   "name": "python",
   "nbconvert_exporter": "python",
   "pygments_lexer": "ipython3",
   "version": "3.11.7"
  }
 },
 "nbformat": 4,
 "nbformat_minor": 2
}
