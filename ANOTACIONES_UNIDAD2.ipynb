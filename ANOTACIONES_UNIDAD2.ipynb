{
 "cells": [
  {
   "cell_type": "code",
   "execution_count": 2,
   "metadata": {},
   "outputs": [
    {
     "ename": "TypeError",
     "evalue": "can only concatenate str (not \"int\") to str",
     "output_type": "error",
     "traceback": [
      "\u001b[1;31m---------------------------------------------------------------------------\u001b[0m",
      "\u001b[1;31mTypeError\u001b[0m                                 Traceback (most recent call last)",
      "Cell \u001b[1;32mIn[2], line 2\u001b[0m\n\u001b[0;32m      1\u001b[0m valor \u001b[38;5;241m=\u001b[39m \u001b[38;5;241m0\u001b[39m\n\u001b[1;32m----> 2\u001b[0m \u001b[38;5;28mprint\u001b[39m(\u001b[38;5;124m\"\u001b[39m\u001b[38;5;124minicial: \u001b[39m\u001b[38;5;124m\"\u001b[39m\u001b[38;5;241m+\u001b[39m valor)\n",
      "\u001b[1;31mTypeError\u001b[0m: can only concatenate str (not \"int\") to str"
     ]
    }
   ],
   "source": [
    "valor = 0\n",
    "print(\"inicial: \"+ valor)"
   ]
  },
  {
   "cell_type": "markdown",
   "metadata": {},
   "source": [
    "En el ejemplo anterior se puede ver el mensaje de error en la linea [2] y me dice que SOLO SE PUEDEN CONCATENAR STR, NO SE PUEDEN CONCATENAR INT \n",
    "Por esta razon se debe usar str para convertir ese valor que tiene \"valor\", que es un numero (int) a un str"
   ]
  },
  {
   "cell_type": "code",
   "execution_count": 3,
   "metadata": {},
   "outputs": [
    {
     "name": "stdout",
     "output_type": "stream",
     "text": [
      "inicial: 0\n"
     ]
    }
   ],
   "source": [
    "valor = 0\n",
    "print(\"inicial: \"+ str(valor))"
   ]
  },
  {
   "cell_type": "markdown",
   "metadata": {},
   "source": [
    "Como se puede ver, ahora si imprimio el mensaje de \"inicial: 0\""
   ]
  },
  {
   "cell_type": "code",
   "execution_count": 4,
   "metadata": {},
   "outputs": [
    {
     "name": "stdout",
     "output_type": "stream",
     "text": [
      "inicial: 1\n",
      "final: 2\n"
     ]
    }
   ],
   "source": [
    "valor=1\n",
    "print(\"inicial: \"+str(valor))\n",
    "valor=valor+1\n",
    "print(\"final: \"+str(valor))"
   ]
  },
  {
   "cell_type": "code",
   "execution_count": 5,
   "metadata": {},
   "outputs": [
    {
     "name": "stdout",
     "output_type": "stream",
     "text": [
      "inicial: 1\n",
      "final: 2\n"
     ]
    }
   ],
   "source": [
    "#PUEDO USAR UNA MANERA RESUMIDA DE LA OPERACION VALOR+1 DE LA SIGUIENTE MANERA:\n",
    "valor=1\n",
    "print(\"inicial: \"+str(valor))\n",
    "valor+=1\n",
    "#OBSERVAR QUE SE ESCRIBE LA EXPRESION RESUMIDA Y SE LE DICE A LA OPERACION COJA VALOR Y LE SUME UN VALOR=1 - OPERADOR MAS LA ASIGNACION\n",
    "print(\"final: \"+str(valor))"
   ]
  },
  {
   "cell_type": "markdown",
   "metadata": {},
   "source": [
    "MISMO RESULTADO, MENOS CODIGO"
   ]
  },
  {
   "cell_type": "markdown",
   "metadata": {},
   "source": [
    "OTRA COSA: EN LAS OPERACIONES ANTERIORES SE VE QUE EL VALOR CAMBIA A MEDIDA QUE VOY INDICANDO LOS CAMBIOS MAS ABAJO, PYTHON VA EJECUTANDO LAS OPERACIONES DE ARRIBA HACIA ABAJO CUMPLIENDO LAS ORDENES DESDE LA PRIMERA A LA ULTIMA (A NO SER QUE SE LE INDIQUE LO CONTRARIO)"
   ]
  },
  {
   "cell_type": "code",
   "execution_count": 6,
   "metadata": {},
   "outputs": [
    {
     "data": {
      "text/plain": [
       "11"
      ]
     },
     "execution_count": 6,
     "metadata": {},
     "output_type": "execute_result"
    }
   ],
   "source": [
    "5+3*2"
   ]
  }
 ],
 "metadata": {
  "kernelspec": {
   "display_name": "base",
   "language": "python",
   "name": "python3"
  },
  "language_info": {
   "codemirror_mode": {
    "name": "ipython",
    "version": 3
   },
   "file_extension": ".py",
   "mimetype": "text/x-python",
   "name": "python",
   "nbconvert_exporter": "python",
   "pygments_lexer": "ipython3",
   "version": "3.11.7"
  }
 },
 "nbformat": 4,
 "nbformat_minor": 2
}
